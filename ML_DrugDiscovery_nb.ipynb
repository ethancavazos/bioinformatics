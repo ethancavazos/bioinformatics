{
 "cells": [
  {
   "cell_type": "markdown",
   "source": [
    "# Bioinformatics Machine Learning: Using the CHEMBL database to classify COVID drugs\n",
    "\n",
    "## Data pre-processing\n",
    "\n",
    "### Import libraries"
   ],
   "metadata": {
    "collapsed": false
   }
  },
  {
   "cell_type": "code",
   "execution_count": 46,
   "metadata": {
    "collapsed": true,
    "pycharm": {
     "name": "#%% import libraries, may need to download from terminal\n"
    }
   },
   "outputs": [],
   "source": [
    "import pandas as pd\n",
    "from chembl_webresource_client.new_client import new_client"
   ]
  },
  {
   "cell_type": "markdown",
   "source": [
    "### Search for Target Protein\n",
    "Target: coronavirus"
   ],
   "metadata": {
    "collapsed": false
   }
  },
  {
   "cell_type": "code",
   "execution_count": 52,
   "outputs": [
    {
     "data": {
      "text/plain": "                                    cross_references  \\\n0                                                 []   \n1                                                 []   \n2                                                 []   \n3                                                 []   \n4  [{'xref_id': 'P0C6U8', 'xref_name': None, 'xre...   \n5                                                 []   \n6  [{'xref_id': 'P0C6X7', 'xref_name': None, 'xre...   \n7                                                 []   \n\n                                            organism  \\\n0                                        Coronavirus   \n1                                   SARS coronavirus   \n2                                 Feline coronavirus   \n3                             Human coronavirus 229E   \n4                                   SARS coronavirus   \n5  Middle East respiratory syndrome-related coron...   \n6                                   SARS coronavirus   \n7    Severe acute respiratory syndrome coronavirus 2   \n\n                                           pref_name  score  \\\n0                                        Coronavirus   17.0   \n1                                   SARS coronavirus   15.0   \n2                                 Feline coronavirus   15.0   \n3                             Human coronavirus 229E   13.0   \n4                SARS coronavirus 3C-like proteinase   10.0   \n5  Middle East respiratory syndrome-related coron...    9.0   \n6                          Replicase polyprotein 1ab    4.0   \n7                          Replicase polyprotein 1ab    4.0   \n\n   species_group_flag target_chembl_id  \\\n0               False     CHEMBL613732   \n1               False     CHEMBL612575   \n2               False     CHEMBL612744   \n3               False     CHEMBL613837   \n4               False       CHEMBL3927   \n5               False    CHEMBL4296578   \n6               False       CHEMBL5118   \n7               False    CHEMBL4523582   \n\n                                   target_components     target_type   tax_id  \n0                                                 []        ORGANISM    11119  \n1                                                 []        ORGANISM   227859  \n2                                                 []        ORGANISM    12663  \n3                                                 []        ORGANISM    11137  \n4  [{'accession': 'P0C6U8', 'component_descriptio...  SINGLE PROTEIN   227859  \n5                                                 []        ORGANISM  1335626  \n6  [{'accession': 'P0C6X7', 'component_descriptio...  SINGLE PROTEIN   227859  \n7  [{'accession': 'P0DTD1', 'component_descriptio...  SINGLE PROTEIN  2697049  ",
      "text/html": "<div>\n<style scoped>\n    .dataframe tbody tr th:only-of-type {\n        vertical-align: middle;\n    }\n\n    .dataframe tbody tr th {\n        vertical-align: top;\n    }\n\n    .dataframe thead th {\n        text-align: right;\n    }\n</style>\n<table border=\"1\" class=\"dataframe\">\n  <thead>\n    <tr style=\"text-align: right;\">\n      <th></th>\n      <th>cross_references</th>\n      <th>organism</th>\n      <th>pref_name</th>\n      <th>score</th>\n      <th>species_group_flag</th>\n      <th>target_chembl_id</th>\n      <th>target_components</th>\n      <th>target_type</th>\n      <th>tax_id</th>\n    </tr>\n  </thead>\n  <tbody>\n    <tr>\n      <th>0</th>\n      <td>[]</td>\n      <td>Coronavirus</td>\n      <td>Coronavirus</td>\n      <td>17.0</td>\n      <td>False</td>\n      <td>CHEMBL613732</td>\n      <td>[]</td>\n      <td>ORGANISM</td>\n      <td>11119</td>\n    </tr>\n    <tr>\n      <th>1</th>\n      <td>[]</td>\n      <td>SARS coronavirus</td>\n      <td>SARS coronavirus</td>\n      <td>15.0</td>\n      <td>False</td>\n      <td>CHEMBL612575</td>\n      <td>[]</td>\n      <td>ORGANISM</td>\n      <td>227859</td>\n    </tr>\n    <tr>\n      <th>2</th>\n      <td>[]</td>\n      <td>Feline coronavirus</td>\n      <td>Feline coronavirus</td>\n      <td>15.0</td>\n      <td>False</td>\n      <td>CHEMBL612744</td>\n      <td>[]</td>\n      <td>ORGANISM</td>\n      <td>12663</td>\n    </tr>\n    <tr>\n      <th>3</th>\n      <td>[]</td>\n      <td>Human coronavirus 229E</td>\n      <td>Human coronavirus 229E</td>\n      <td>13.0</td>\n      <td>False</td>\n      <td>CHEMBL613837</td>\n      <td>[]</td>\n      <td>ORGANISM</td>\n      <td>11137</td>\n    </tr>\n    <tr>\n      <th>4</th>\n      <td>[{'xref_id': 'P0C6U8', 'xref_name': None, 'xre...</td>\n      <td>SARS coronavirus</td>\n      <td>SARS coronavirus 3C-like proteinase</td>\n      <td>10.0</td>\n      <td>False</td>\n      <td>CHEMBL3927</td>\n      <td>[{'accession': 'P0C6U8', 'component_descriptio...</td>\n      <td>SINGLE PROTEIN</td>\n      <td>227859</td>\n    </tr>\n    <tr>\n      <th>5</th>\n      <td>[]</td>\n      <td>Middle East respiratory syndrome-related coron...</td>\n      <td>Middle East respiratory syndrome-related coron...</td>\n      <td>9.0</td>\n      <td>False</td>\n      <td>CHEMBL4296578</td>\n      <td>[]</td>\n      <td>ORGANISM</td>\n      <td>1335626</td>\n    </tr>\n    <tr>\n      <th>6</th>\n      <td>[{'xref_id': 'P0C6X7', 'xref_name': None, 'xre...</td>\n      <td>SARS coronavirus</td>\n      <td>Replicase polyprotein 1ab</td>\n      <td>4.0</td>\n      <td>False</td>\n      <td>CHEMBL5118</td>\n      <td>[{'accession': 'P0C6X7', 'component_descriptio...</td>\n      <td>SINGLE PROTEIN</td>\n      <td>227859</td>\n    </tr>\n    <tr>\n      <th>7</th>\n      <td>[]</td>\n      <td>Severe acute respiratory syndrome coronavirus 2</td>\n      <td>Replicase polyprotein 1ab</td>\n      <td>4.0</td>\n      <td>False</td>\n      <td>CHEMBL4523582</td>\n      <td>[{'accession': 'P0DTD1', 'component_descriptio...</td>\n      <td>SINGLE PROTEIN</td>\n      <td>2697049</td>\n    </tr>\n  </tbody>\n</table>\n</div>"
     },
     "execution_count": 52,
     "metadata": {},
     "output_type": "execute_result"
    }
   ],
   "source": [
    "target = new_client.target\n",
    "target_query = target.search('coronavirus')\n",
    "targets = pd.DataFrame.from_dict(target_query)\n",
    "targets"
   ],
   "metadata": {
    "collapsed": false,
    "pycharm": {
     "name": "#%%\n"
    }
   }
  },
  {
   "cell_type": "markdown",
   "source": [
    "### Retrieving bioactivity data for SARS coronavirus 3C-like proteinase"
   ],
   "metadata": {
    "collapsed": false
   }
  },
  {
   "cell_type": "code",
   "execution_count": 50,
   "outputs": [
    {
     "data": {
      "text/plain": "'CHEMBL3927'"
     },
     "execution_count": 50,
     "metadata": {},
     "output_type": "execute_result"
    }
   ],
   "source": [
    "selected_target = targets.target_chembl_id[4]\n",
    "selected_target"
   ],
   "metadata": {
    "collapsed": false,
    "pycharm": {
     "name": "#%%\n"
    }
   }
  },
  {
   "cell_type": "code",
   "execution_count": 60,
   "outputs": [],
   "source": [
    "activity = new_client.activity\n",
    "res = activity.filter(target_chembl_id=selected_target).filter(standard_type='IC50')\n",
    "df = pd.DataFrame.from_dict(res)"
   ],
   "metadata": {
    "collapsed": false,
    "pycharm": {
     "name": "#%%\n"
    }
   }
  },
  {
   "cell_type": "code",
   "execution_count": 61,
   "outputs": [
    {
     "data": {
      "text/plain": "  activity_comment  activity_id activity_properties assay_chembl_id  \\\n0             None      1480935                  []    CHEMBL829584   \n1             None      1480936                  []    CHEMBL829584   \n2             None      1481061                  []    CHEMBL830868   \n3             None      1481065                  []    CHEMBL829584   \n4             None      1481066                  []    CHEMBL829584   \n\n                                   assay_description assay_type  \\\n0  In vitro inhibitory concentration against SARS...          B   \n1  In vitro inhibitory concentration against SARS...          B   \n2  In vitro inhibitory concentration against SARS...          B   \n3  In vitro inhibitory concentration against SARS...          B   \n4  In vitro inhibitory concentration against SARS...          B   \n\n  assay_variant_accession assay_variant_mutation bao_endpoint   bao_format  \\\n0                    None                   None  BAO_0000190  BAO_0000357   \n1                    None                   None  BAO_0000190  BAO_0000357   \n2                    None                   None  BAO_0000190  BAO_0000357   \n3                    None                   None  BAO_0000190  BAO_0000357   \n4                    None                   None  BAO_0000190  BAO_0000357   \n\n   ...   target_organism                     target_pref_name target_tax_id  \\\n0  ...  SARS coronavirus  SARS coronavirus 3C-like proteinase        227859   \n1  ...  SARS coronavirus  SARS coronavirus 3C-like proteinase        227859   \n2  ...  SARS coronavirus  SARS coronavirus 3C-like proteinase        227859   \n3  ...  SARS coronavirus  SARS coronavirus 3C-like proteinase        227859   \n4  ...  SARS coronavirus  SARS coronavirus 3C-like proteinase        227859   \n\n  text_value  toid  type  units    uo_units upper_value  value  \n0       None  None  IC50     uM  UO_0000065        None    7.2  \n1       None  None  IC50     uM  UO_0000065        None    9.4  \n2       None  None  IC50     uM  UO_0000065        None   13.5  \n3       None  None  IC50     uM  UO_0000065        None  13.11  \n4       None  None  IC50     uM  UO_0000065        None    2.0  \n\n[5 rows x 45 columns]",
      "text/html": "<div>\n<style scoped>\n    .dataframe tbody tr th:only-of-type {\n        vertical-align: middle;\n    }\n\n    .dataframe tbody tr th {\n        vertical-align: top;\n    }\n\n    .dataframe thead th {\n        text-align: right;\n    }\n</style>\n<table border=\"1\" class=\"dataframe\">\n  <thead>\n    <tr style=\"text-align: right;\">\n      <th></th>\n      <th>activity_comment</th>\n      <th>activity_id</th>\n      <th>activity_properties</th>\n      <th>assay_chembl_id</th>\n      <th>assay_description</th>\n      <th>assay_type</th>\n      <th>assay_variant_accession</th>\n      <th>assay_variant_mutation</th>\n      <th>bao_endpoint</th>\n      <th>bao_format</th>\n      <th>...</th>\n      <th>target_organism</th>\n      <th>target_pref_name</th>\n      <th>target_tax_id</th>\n      <th>text_value</th>\n      <th>toid</th>\n      <th>type</th>\n      <th>units</th>\n      <th>uo_units</th>\n      <th>upper_value</th>\n      <th>value</th>\n    </tr>\n  </thead>\n  <tbody>\n    <tr>\n      <th>0</th>\n      <td>None</td>\n      <td>1480935</td>\n      <td>[]</td>\n      <td>CHEMBL829584</td>\n      <td>In vitro inhibitory concentration against SARS...</td>\n      <td>B</td>\n      <td>None</td>\n      <td>None</td>\n      <td>BAO_0000190</td>\n      <td>BAO_0000357</td>\n      <td>...</td>\n      <td>SARS coronavirus</td>\n      <td>SARS coronavirus 3C-like proteinase</td>\n      <td>227859</td>\n      <td>None</td>\n      <td>None</td>\n      <td>IC50</td>\n      <td>uM</td>\n      <td>UO_0000065</td>\n      <td>None</td>\n      <td>7.2</td>\n    </tr>\n    <tr>\n      <th>1</th>\n      <td>None</td>\n      <td>1480936</td>\n      <td>[]</td>\n      <td>CHEMBL829584</td>\n      <td>In vitro inhibitory concentration against SARS...</td>\n      <td>B</td>\n      <td>None</td>\n      <td>None</td>\n      <td>BAO_0000190</td>\n      <td>BAO_0000357</td>\n      <td>...</td>\n      <td>SARS coronavirus</td>\n      <td>SARS coronavirus 3C-like proteinase</td>\n      <td>227859</td>\n      <td>None</td>\n      <td>None</td>\n      <td>IC50</td>\n      <td>uM</td>\n      <td>UO_0000065</td>\n      <td>None</td>\n      <td>9.4</td>\n    </tr>\n    <tr>\n      <th>2</th>\n      <td>None</td>\n      <td>1481061</td>\n      <td>[]</td>\n      <td>CHEMBL830868</td>\n      <td>In vitro inhibitory concentration against SARS...</td>\n      <td>B</td>\n      <td>None</td>\n      <td>None</td>\n      <td>BAO_0000190</td>\n      <td>BAO_0000357</td>\n      <td>...</td>\n      <td>SARS coronavirus</td>\n      <td>SARS coronavirus 3C-like proteinase</td>\n      <td>227859</td>\n      <td>None</td>\n      <td>None</td>\n      <td>IC50</td>\n      <td>uM</td>\n      <td>UO_0000065</td>\n      <td>None</td>\n      <td>13.5</td>\n    </tr>\n    <tr>\n      <th>3</th>\n      <td>None</td>\n      <td>1481065</td>\n      <td>[]</td>\n      <td>CHEMBL829584</td>\n      <td>In vitro inhibitory concentration against SARS...</td>\n      <td>B</td>\n      <td>None</td>\n      <td>None</td>\n      <td>BAO_0000190</td>\n      <td>BAO_0000357</td>\n      <td>...</td>\n      <td>SARS coronavirus</td>\n      <td>SARS coronavirus 3C-like proteinase</td>\n      <td>227859</td>\n      <td>None</td>\n      <td>None</td>\n      <td>IC50</td>\n      <td>uM</td>\n      <td>UO_0000065</td>\n      <td>None</td>\n      <td>13.11</td>\n    </tr>\n    <tr>\n      <th>4</th>\n      <td>None</td>\n      <td>1481066</td>\n      <td>[]</td>\n      <td>CHEMBL829584</td>\n      <td>In vitro inhibitory concentration against SARS...</td>\n      <td>B</td>\n      <td>None</td>\n      <td>None</td>\n      <td>BAO_0000190</td>\n      <td>BAO_0000357</td>\n      <td>...</td>\n      <td>SARS coronavirus</td>\n      <td>SARS coronavirus 3C-like proteinase</td>\n      <td>227859</td>\n      <td>None</td>\n      <td>None</td>\n      <td>IC50</td>\n      <td>uM</td>\n      <td>UO_0000065</td>\n      <td>None</td>\n      <td>2.0</td>\n    </tr>\n  </tbody>\n</table>\n<p>5 rows × 45 columns</p>\n</div>"
     },
     "execution_count": 61,
     "metadata": {},
     "output_type": "execute_result"
    }
   ],
   "source": [
    "df.head(5)"
   ],
   "metadata": {
    "collapsed": false,
    "pycharm": {
     "name": "#%%\n"
    }
   }
  },
  {
   "cell_type": "code",
   "execution_count": 62,
   "outputs": [
    {
     "data": {
      "text/plain": "array(['IC50'], dtype=object)"
     },
     "execution_count": 62,
     "metadata": {},
     "output_type": "execute_result"
    }
   ],
   "source": [
    "df.standard_type.unique()"
   ],
   "metadata": {
    "collapsed": false,
    "pycharm": {
     "name": "#%%\n"
    }
   }
  },
  {
   "cell_type": "markdown",
   "source": [
    "Saving the resultant data to a CSV file:"
   ],
   "metadata": {
    "collapsed": false,
    "pycharm": {
     "name": "#%% md\n"
    }
   }
  },
  {
   "cell_type": "code",
   "execution_count": 63,
   "outputs": [],
   "source": [
    "df.to_csv('bioactivity_data.csv', index=False)"
   ],
   "metadata": {
    "collapsed": false,
    "pycharm": {
     "name": "#%%\n"
    }
   }
  },
  {
   "cell_type": "markdown",
   "source": [
    "Not shown: Copying bioactivity_data.csv into its own directory titled 'data'\n",
    "\n",
    "### Handling Missing Data\n",
    "Drop any missing values from the `standard_value` column."
   ],
   "metadata": {
    "collapsed": false,
    "pycharm": {
     "name": "#%% md\n"
    }
   }
  },
  {
   "cell_type": "code",
   "execution_count": 64,
   "outputs": [
    {
     "data": {
      "text/plain": "    activity_comment  activity_id activity_properties assay_chembl_id  \\\n0               None      1480935                  []    CHEMBL829584   \n1               None      1480936                  []    CHEMBL829584   \n2               None      1481061                  []    CHEMBL830868   \n3               None      1481065                  []    CHEMBL829584   \n4               None      1481066                  []    CHEMBL829584   \n..               ...          ...                 ...             ...   \n128             None     12041507                  []   CHEMBL2150313   \n129             None     12041508                  []   CHEMBL2150313   \n130             None     12041509                  []   CHEMBL2150313   \n131             None     12041510                  []   CHEMBL2150313   \n132             None     12041511                  []   CHEMBL2150313   \n\n                                     assay_description assay_type  \\\n0    In vitro inhibitory concentration against SARS...          B   \n1    In vitro inhibitory concentration against SARS...          B   \n2    In vitro inhibitory concentration against SARS...          B   \n3    In vitro inhibitory concentration against SARS...          B   \n4    In vitro inhibitory concentration against SARS...          B   \n..                                                 ...        ...   \n128  Inhibition of SARS-CoV PLpro expressed in Esch...          B   \n129  Inhibition of SARS-CoV PLpro expressed in Esch...          B   \n130  Inhibition of SARS-CoV PLpro expressed in Esch...          B   \n131  Inhibition of SARS-CoV PLpro expressed in Esch...          B   \n132  Inhibition of SARS-CoV PLpro expressed in Esch...          B   \n\n    assay_variant_accession assay_variant_mutation bao_endpoint   bao_format  \\\n0                      None                   None  BAO_0000190  BAO_0000357   \n1                      None                   None  BAO_0000190  BAO_0000357   \n2                      None                   None  BAO_0000190  BAO_0000357   \n3                      None                   None  BAO_0000190  BAO_0000357   \n4                      None                   None  BAO_0000190  BAO_0000357   \n..                      ...                    ...          ...          ...   \n128                    None                   None  BAO_0000190  BAO_0000019   \n129                    None                   None  BAO_0000190  BAO_0000019   \n130                    None                   None  BAO_0000190  BAO_0000019   \n131                    None                   None  BAO_0000190  BAO_0000019   \n132                    None                   None  BAO_0000190  BAO_0000019   \n\n     ...   target_organism                     target_pref_name target_tax_id  \\\n0    ...  SARS coronavirus  SARS coronavirus 3C-like proteinase        227859   \n1    ...  SARS coronavirus  SARS coronavirus 3C-like proteinase        227859   \n2    ...  SARS coronavirus  SARS coronavirus 3C-like proteinase        227859   \n3    ...  SARS coronavirus  SARS coronavirus 3C-like proteinase        227859   \n4    ...  SARS coronavirus  SARS coronavirus 3C-like proteinase        227859   \n..   ...               ...                                  ...           ...   \n128  ...  SARS coronavirus  SARS coronavirus 3C-like proteinase        227859   \n129  ...  SARS coronavirus  SARS coronavirus 3C-like proteinase        227859   \n130  ...  SARS coronavirus  SARS coronavirus 3C-like proteinase        227859   \n131  ...  SARS coronavirus  SARS coronavirus 3C-like proteinase        227859   \n132  ...  SARS coronavirus  SARS coronavirus 3C-like proteinase        227859   \n\n    text_value  toid  type  units    uo_units upper_value  value  \n0         None  None  IC50     uM  UO_0000065        None    7.2  \n1         None  None  IC50     uM  UO_0000065        None    9.4  \n2         None  None  IC50     uM  UO_0000065        None   13.5  \n3         None  None  IC50     uM  UO_0000065        None  13.11  \n4         None  None  IC50     uM  UO_0000065        None    2.0  \n..         ...   ...   ...    ...         ...         ...    ...  \n128       None  None  IC50     uM  UO_0000065        None   10.6  \n129       None  None  IC50     uM  UO_0000065        None   10.1  \n130       None  None  IC50     uM  UO_0000065        None   11.5  \n131       None  None  IC50     uM  UO_0000065        None   10.7  \n132       None  None  IC50     uM  UO_0000065        None   78.9  \n\n[133 rows x 45 columns]",
      "text/html": "<div>\n<style scoped>\n    .dataframe tbody tr th:only-of-type {\n        vertical-align: middle;\n    }\n\n    .dataframe tbody tr th {\n        vertical-align: top;\n    }\n\n    .dataframe thead th {\n        text-align: right;\n    }\n</style>\n<table border=\"1\" class=\"dataframe\">\n  <thead>\n    <tr style=\"text-align: right;\">\n      <th></th>\n      <th>activity_comment</th>\n      <th>activity_id</th>\n      <th>activity_properties</th>\n      <th>assay_chembl_id</th>\n      <th>assay_description</th>\n      <th>assay_type</th>\n      <th>assay_variant_accession</th>\n      <th>assay_variant_mutation</th>\n      <th>bao_endpoint</th>\n      <th>bao_format</th>\n      <th>...</th>\n      <th>target_organism</th>\n      <th>target_pref_name</th>\n      <th>target_tax_id</th>\n      <th>text_value</th>\n      <th>toid</th>\n      <th>type</th>\n      <th>units</th>\n      <th>uo_units</th>\n      <th>upper_value</th>\n      <th>value</th>\n    </tr>\n  </thead>\n  <tbody>\n    <tr>\n      <th>0</th>\n      <td>None</td>\n      <td>1480935</td>\n      <td>[]</td>\n      <td>CHEMBL829584</td>\n      <td>In vitro inhibitory concentration against SARS...</td>\n      <td>B</td>\n      <td>None</td>\n      <td>None</td>\n      <td>BAO_0000190</td>\n      <td>BAO_0000357</td>\n      <td>...</td>\n      <td>SARS coronavirus</td>\n      <td>SARS coronavirus 3C-like proteinase</td>\n      <td>227859</td>\n      <td>None</td>\n      <td>None</td>\n      <td>IC50</td>\n      <td>uM</td>\n      <td>UO_0000065</td>\n      <td>None</td>\n      <td>7.2</td>\n    </tr>\n    <tr>\n      <th>1</th>\n      <td>None</td>\n      <td>1480936</td>\n      <td>[]</td>\n      <td>CHEMBL829584</td>\n      <td>In vitro inhibitory concentration against SARS...</td>\n      <td>B</td>\n      <td>None</td>\n      <td>None</td>\n      <td>BAO_0000190</td>\n      <td>BAO_0000357</td>\n      <td>...</td>\n      <td>SARS coronavirus</td>\n      <td>SARS coronavirus 3C-like proteinase</td>\n      <td>227859</td>\n      <td>None</td>\n      <td>None</td>\n      <td>IC50</td>\n      <td>uM</td>\n      <td>UO_0000065</td>\n      <td>None</td>\n      <td>9.4</td>\n    </tr>\n    <tr>\n      <th>2</th>\n      <td>None</td>\n      <td>1481061</td>\n      <td>[]</td>\n      <td>CHEMBL830868</td>\n      <td>In vitro inhibitory concentration against SARS...</td>\n      <td>B</td>\n      <td>None</td>\n      <td>None</td>\n      <td>BAO_0000190</td>\n      <td>BAO_0000357</td>\n      <td>...</td>\n      <td>SARS coronavirus</td>\n      <td>SARS coronavirus 3C-like proteinase</td>\n      <td>227859</td>\n      <td>None</td>\n      <td>None</td>\n      <td>IC50</td>\n      <td>uM</td>\n      <td>UO_0000065</td>\n      <td>None</td>\n      <td>13.5</td>\n    </tr>\n    <tr>\n      <th>3</th>\n      <td>None</td>\n      <td>1481065</td>\n      <td>[]</td>\n      <td>CHEMBL829584</td>\n      <td>In vitro inhibitory concentration against SARS...</td>\n      <td>B</td>\n      <td>None</td>\n      <td>None</td>\n      <td>BAO_0000190</td>\n      <td>BAO_0000357</td>\n      <td>...</td>\n      <td>SARS coronavirus</td>\n      <td>SARS coronavirus 3C-like proteinase</td>\n      <td>227859</td>\n      <td>None</td>\n      <td>None</td>\n      <td>IC50</td>\n      <td>uM</td>\n      <td>UO_0000065</td>\n      <td>None</td>\n      <td>13.11</td>\n    </tr>\n    <tr>\n      <th>4</th>\n      <td>None</td>\n      <td>1481066</td>\n      <td>[]</td>\n      <td>CHEMBL829584</td>\n      <td>In vitro inhibitory concentration against SARS...</td>\n      <td>B</td>\n      <td>None</td>\n      <td>None</td>\n      <td>BAO_0000190</td>\n      <td>BAO_0000357</td>\n      <td>...</td>\n      <td>SARS coronavirus</td>\n      <td>SARS coronavirus 3C-like proteinase</td>\n      <td>227859</td>\n      <td>None</td>\n      <td>None</td>\n      <td>IC50</td>\n      <td>uM</td>\n      <td>UO_0000065</td>\n      <td>None</td>\n      <td>2.0</td>\n    </tr>\n    <tr>\n      <th>...</th>\n      <td>...</td>\n      <td>...</td>\n      <td>...</td>\n      <td>...</td>\n      <td>...</td>\n      <td>...</td>\n      <td>...</td>\n      <td>...</td>\n      <td>...</td>\n      <td>...</td>\n      <td>...</td>\n      <td>...</td>\n      <td>...</td>\n      <td>...</td>\n      <td>...</td>\n      <td>...</td>\n      <td>...</td>\n      <td>...</td>\n      <td>...</td>\n      <td>...</td>\n      <td>...</td>\n    </tr>\n    <tr>\n      <th>128</th>\n      <td>None</td>\n      <td>12041507</td>\n      <td>[]</td>\n      <td>CHEMBL2150313</td>\n      <td>Inhibition of SARS-CoV PLpro expressed in Esch...</td>\n      <td>B</td>\n      <td>None</td>\n      <td>None</td>\n      <td>BAO_0000190</td>\n      <td>BAO_0000019</td>\n      <td>...</td>\n      <td>SARS coronavirus</td>\n      <td>SARS coronavirus 3C-like proteinase</td>\n      <td>227859</td>\n      <td>None</td>\n      <td>None</td>\n      <td>IC50</td>\n      <td>uM</td>\n      <td>UO_0000065</td>\n      <td>None</td>\n      <td>10.6</td>\n    </tr>\n    <tr>\n      <th>129</th>\n      <td>None</td>\n      <td>12041508</td>\n      <td>[]</td>\n      <td>CHEMBL2150313</td>\n      <td>Inhibition of SARS-CoV PLpro expressed in Esch...</td>\n      <td>B</td>\n      <td>None</td>\n      <td>None</td>\n      <td>BAO_0000190</td>\n      <td>BAO_0000019</td>\n      <td>...</td>\n      <td>SARS coronavirus</td>\n      <td>SARS coronavirus 3C-like proteinase</td>\n      <td>227859</td>\n      <td>None</td>\n      <td>None</td>\n      <td>IC50</td>\n      <td>uM</td>\n      <td>UO_0000065</td>\n      <td>None</td>\n      <td>10.1</td>\n    </tr>\n    <tr>\n      <th>130</th>\n      <td>None</td>\n      <td>12041509</td>\n      <td>[]</td>\n      <td>CHEMBL2150313</td>\n      <td>Inhibition of SARS-CoV PLpro expressed in Esch...</td>\n      <td>B</td>\n      <td>None</td>\n      <td>None</td>\n      <td>BAO_0000190</td>\n      <td>BAO_0000019</td>\n      <td>...</td>\n      <td>SARS coronavirus</td>\n      <td>SARS coronavirus 3C-like proteinase</td>\n      <td>227859</td>\n      <td>None</td>\n      <td>None</td>\n      <td>IC50</td>\n      <td>uM</td>\n      <td>UO_0000065</td>\n      <td>None</td>\n      <td>11.5</td>\n    </tr>\n    <tr>\n      <th>131</th>\n      <td>None</td>\n      <td>12041510</td>\n      <td>[]</td>\n      <td>CHEMBL2150313</td>\n      <td>Inhibition of SARS-CoV PLpro expressed in Esch...</td>\n      <td>B</td>\n      <td>None</td>\n      <td>None</td>\n      <td>BAO_0000190</td>\n      <td>BAO_0000019</td>\n      <td>...</td>\n      <td>SARS coronavirus</td>\n      <td>SARS coronavirus 3C-like proteinase</td>\n      <td>227859</td>\n      <td>None</td>\n      <td>None</td>\n      <td>IC50</td>\n      <td>uM</td>\n      <td>UO_0000065</td>\n      <td>None</td>\n      <td>10.7</td>\n    </tr>\n    <tr>\n      <th>132</th>\n      <td>None</td>\n      <td>12041511</td>\n      <td>[]</td>\n      <td>CHEMBL2150313</td>\n      <td>Inhibition of SARS-CoV PLpro expressed in Esch...</td>\n      <td>B</td>\n      <td>None</td>\n      <td>None</td>\n      <td>BAO_0000190</td>\n      <td>BAO_0000019</td>\n      <td>...</td>\n      <td>SARS coronavirus</td>\n      <td>SARS coronavirus 3C-like proteinase</td>\n      <td>227859</td>\n      <td>None</td>\n      <td>None</td>\n      <td>IC50</td>\n      <td>uM</td>\n      <td>UO_0000065</td>\n      <td>None</td>\n      <td>78.9</td>\n    </tr>\n  </tbody>\n</table>\n<p>133 rows × 45 columns</p>\n</div>"
     },
     "execution_count": 64,
     "metadata": {},
     "output_type": "execute_result"
    }
   ],
   "source": [
    "df2 = df[df.standard_value.notna()]\n",
    "df2"
   ],
   "metadata": {
    "collapsed": false,
    "pycharm": {
     "name": "#%%\n"
    }
   }
  },
  {
   "cell_type": "markdown",
   "source": [
    "### Data pre-processing\n",
    "#### Labeling compounds as active, inactive, or intermediate\n",
    "Active: IC50 values <= 1000 nM\n",
    "Inactive: values >= 10,000 nM\n",
    "Intermediate: (1000 , 10,000) nM"
   ],
   "metadata": {
    "collapsed": false,
    "pycharm": {
     "name": "#%% md\n"
    }
   }
  },
  {
   "cell_type": "code",
   "execution_count": 68,
   "outputs": [
    {
     "data": {
      "text/plain": "['intermediate',\n 'intermediate',\n 'inactive',\n 'inactive',\n 'intermediate',\n 'active',\n 'intermediate',\n 'active',\n 'inactive',\n 'inactive']"
     },
     "execution_count": 68,
     "metadata": {},
     "output_type": "execute_result"
    }
   ],
   "source": [
    "bioactivity_class = []\n",
    "for i in df2.standard_value:\n",
    "    if float(i) >= 10000:\n",
    "        bioactivity_class.append('inactive')\n",
    "    elif float(i) <= 1000:\n",
    "        bioactivity_class.append('active')\n",
    "    else:\n",
    "        bioactivity_class.append('intermediate')\n",
    "bioactivity_class[:10]"
   ],
   "metadata": {
    "collapsed": false,
    "pycharm": {
     "name": "#%%\n"
    }
   }
  },
  {
   "cell_type": "markdown",
   "source": [
    "#### Iterating attributes `molucule_chembl_id`, `canonical_smiles`, and `standard_value` to lists from dataframe"
   ],
   "metadata": {
    "collapsed": false,
    "pycharm": {
     "name": "#%% md\n"
    }
   }
  },
  {
   "cell_type": "code",
   "execution_count": 70,
   "outputs": [],
   "source": [
    "mol_cid = []\n",
    "for i in df2.molecule_chembl_id:\n",
    "  mol_cid.append(i)\n",
    "\n",
    "canonical_smiles = []\n",
    "for i in df2.canonical_smiles:\n",
    "  canonical_smiles.append(i)\n",
    "\n",
    "standard_value = []\n",
    "for i in df2.standard_value:\n",
    "  standard_value.append(i)"
   ],
   "metadata": {
    "collapsed": false,
    "pycharm": {
     "name": "#%%\n"
    }
   }
  },
  {
   "cell_type": "markdown",
   "source": [
    "#### Producing new dataframe from selected lists"
   ],
   "metadata": {
    "collapsed": false,
    "pycharm": {
     "name": "#%% md\n"
    }
   }
  },
  {
   "cell_type": "code",
   "execution_count": 74,
   "outputs": [
    {
     "data": {
      "text/plain": "    molecule_chembl_id                                   canonical_smiles  \\\n0         CHEMBL187579             Cc1noc(C)c1CN1C(=O)C(=O)c2cc(C#N)ccc21   \n1         CHEMBL188487             O=C1C(=O)N(Cc2ccc(F)cc2Cl)c2ccc(I)cc21   \n2         CHEMBL185698            O=C1C(=O)N(CC2COc3ccccc3O2)c2ccc(I)cc21   \n3         CHEMBL426082                O=C1C(=O)N(Cc2cc3ccccc3s2)c2ccccc21   \n4         CHEMBL187717    O=C1C(=O)N(Cc2cc3ccccc3s2)c2c1cccc2[N+](=O)[O-]   \n..                 ...                                                ...   \n128      CHEMBL2146517  COC(=O)[C@@]1(C)CCCc2c1ccc1c2C(=O)C(=O)c2c(C)c...   \n129       CHEMBL187460        C[C@H]1COC2=C1C(=O)C(=O)c1c2ccc2c1CCCC2(C)C   \n130       CHEMBL363535             Cc1coc2c1C(=O)C(=O)c1c-2ccc2c(C)cccc12   \n131       CHEMBL227075      Cc1cccc2c3c(ccc12)C1=C(C(=O)C3=O)[C@@H](C)CO1   \n132        CHEMBL45830             CC(C)C1=Cc2ccc3c(c2C(=O)C1=O)CCCC3(C)C   \n\n    standard_value  \n0           7200.0  \n1           9400.0  \n2          13500.0  \n3          13110.0  \n4           2000.0  \n..             ...  \n128        10600.0  \n129        10100.0  \n130        11500.0  \n131        10700.0  \n132        78900.0  \n\n[133 rows x 3 columns]",
      "text/html": "<div>\n<style scoped>\n    .dataframe tbody tr th:only-of-type {\n        vertical-align: middle;\n    }\n\n    .dataframe tbody tr th {\n        vertical-align: top;\n    }\n\n    .dataframe thead th {\n        text-align: right;\n    }\n</style>\n<table border=\"1\" class=\"dataframe\">\n  <thead>\n    <tr style=\"text-align: right;\">\n      <th></th>\n      <th>molecule_chembl_id</th>\n      <th>canonical_smiles</th>\n      <th>standard_value</th>\n    </tr>\n  </thead>\n  <tbody>\n    <tr>\n      <th>0</th>\n      <td>CHEMBL187579</td>\n      <td>Cc1noc(C)c1CN1C(=O)C(=O)c2cc(C#N)ccc21</td>\n      <td>7200.0</td>\n    </tr>\n    <tr>\n      <th>1</th>\n      <td>CHEMBL188487</td>\n      <td>O=C1C(=O)N(Cc2ccc(F)cc2Cl)c2ccc(I)cc21</td>\n      <td>9400.0</td>\n    </tr>\n    <tr>\n      <th>2</th>\n      <td>CHEMBL185698</td>\n      <td>O=C1C(=O)N(CC2COc3ccccc3O2)c2ccc(I)cc21</td>\n      <td>13500.0</td>\n    </tr>\n    <tr>\n      <th>3</th>\n      <td>CHEMBL426082</td>\n      <td>O=C1C(=O)N(Cc2cc3ccccc3s2)c2ccccc21</td>\n      <td>13110.0</td>\n    </tr>\n    <tr>\n      <th>4</th>\n      <td>CHEMBL187717</td>\n      <td>O=C1C(=O)N(Cc2cc3ccccc3s2)c2c1cccc2[N+](=O)[O-]</td>\n      <td>2000.0</td>\n    </tr>\n    <tr>\n      <th>...</th>\n      <td>...</td>\n      <td>...</td>\n      <td>...</td>\n    </tr>\n    <tr>\n      <th>128</th>\n      <td>CHEMBL2146517</td>\n      <td>COC(=O)[C@@]1(C)CCCc2c1ccc1c2C(=O)C(=O)c2c(C)c...</td>\n      <td>10600.0</td>\n    </tr>\n    <tr>\n      <th>129</th>\n      <td>CHEMBL187460</td>\n      <td>C[C@H]1COC2=C1C(=O)C(=O)c1c2ccc2c1CCCC2(C)C</td>\n      <td>10100.0</td>\n    </tr>\n    <tr>\n      <th>130</th>\n      <td>CHEMBL363535</td>\n      <td>Cc1coc2c1C(=O)C(=O)c1c-2ccc2c(C)cccc12</td>\n      <td>11500.0</td>\n    </tr>\n    <tr>\n      <th>131</th>\n      <td>CHEMBL227075</td>\n      <td>Cc1cccc2c3c(ccc12)C1=C(C(=O)C3=O)[C@@H](C)CO1</td>\n      <td>10700.0</td>\n    </tr>\n    <tr>\n      <th>132</th>\n      <td>CHEMBL45830</td>\n      <td>CC(C)C1=Cc2ccc3c(c2C(=O)C1=O)CCCC3(C)C</td>\n      <td>78900.0</td>\n    </tr>\n  </tbody>\n</table>\n<p>133 rows × 3 columns</p>\n</div>"
     },
     "execution_count": 74,
     "metadata": {},
     "output_type": "execute_result"
    }
   ],
   "source": [
    "cols = ['molecule_chembl_id', 'canonical_smiles', 'standard_value']\n",
    "df3 = df2[cols]\n",
    "df3"
   ],
   "metadata": {
    "collapsed": false,
    "pycharm": {
     "name": "#%%\n"
    }
   }
  },
  {
   "cell_type": "code",
   "execution_count": 75,
   "outputs": [
    {
     "data": {
      "text/plain": "    molecule_chembl_id                                   canonical_smiles  \\\n0         CHEMBL187579             Cc1noc(C)c1CN1C(=O)C(=O)c2cc(C#N)ccc21   \n1         CHEMBL188487             O=C1C(=O)N(Cc2ccc(F)cc2Cl)c2ccc(I)cc21   \n2         CHEMBL185698            O=C1C(=O)N(CC2COc3ccccc3O2)c2ccc(I)cc21   \n3         CHEMBL426082                O=C1C(=O)N(Cc2cc3ccccc3s2)c2ccccc21   \n4         CHEMBL187717    O=C1C(=O)N(Cc2cc3ccccc3s2)c2c1cccc2[N+](=O)[O-]   \n..                 ...                                                ...   \n128      CHEMBL2146517  COC(=O)[C@@]1(C)CCCc2c1ccc1c2C(=O)C(=O)c2c(C)c...   \n129       CHEMBL187460        C[C@H]1COC2=C1C(=O)C(=O)c1c2ccc2c1CCCC2(C)C   \n130       CHEMBL363535             Cc1coc2c1C(=O)C(=O)c1c-2ccc2c(C)cccc12   \n131       CHEMBL227075      Cc1cccc2c3c(ccc12)C1=C(C(=O)C3=O)[C@@H](C)CO1   \n132        CHEMBL45830             CC(C)C1=Cc2ccc3c(c2C(=O)C1=O)CCCC3(C)C   \n\n    standard_value             0  \n0           7200.0  intermediate  \n1           9400.0  intermediate  \n2          13500.0      inactive  \n3          13110.0      inactive  \n4           2000.0  intermediate  \n..             ...           ...  \n128        10600.0      inactive  \n129        10100.0      inactive  \n130        11500.0      inactive  \n131        10700.0      inactive  \n132        78900.0      inactive  \n\n[133 rows x 4 columns]",
      "text/html": "<div>\n<style scoped>\n    .dataframe tbody tr th:only-of-type {\n        vertical-align: middle;\n    }\n\n    .dataframe tbody tr th {\n        vertical-align: top;\n    }\n\n    .dataframe thead th {\n        text-align: right;\n    }\n</style>\n<table border=\"1\" class=\"dataframe\">\n  <thead>\n    <tr style=\"text-align: right;\">\n      <th></th>\n      <th>molecule_chembl_id</th>\n      <th>canonical_smiles</th>\n      <th>standard_value</th>\n      <th>0</th>\n    </tr>\n  </thead>\n  <tbody>\n    <tr>\n      <th>0</th>\n      <td>CHEMBL187579</td>\n      <td>Cc1noc(C)c1CN1C(=O)C(=O)c2cc(C#N)ccc21</td>\n      <td>7200.0</td>\n      <td>intermediate</td>\n    </tr>\n    <tr>\n      <th>1</th>\n      <td>CHEMBL188487</td>\n      <td>O=C1C(=O)N(Cc2ccc(F)cc2Cl)c2ccc(I)cc21</td>\n      <td>9400.0</td>\n      <td>intermediate</td>\n    </tr>\n    <tr>\n      <th>2</th>\n      <td>CHEMBL185698</td>\n      <td>O=C1C(=O)N(CC2COc3ccccc3O2)c2ccc(I)cc21</td>\n      <td>13500.0</td>\n      <td>inactive</td>\n    </tr>\n    <tr>\n      <th>3</th>\n      <td>CHEMBL426082</td>\n      <td>O=C1C(=O)N(Cc2cc3ccccc3s2)c2ccccc21</td>\n      <td>13110.0</td>\n      <td>inactive</td>\n    </tr>\n    <tr>\n      <th>4</th>\n      <td>CHEMBL187717</td>\n      <td>O=C1C(=O)N(Cc2cc3ccccc3s2)c2c1cccc2[N+](=O)[O-]</td>\n      <td>2000.0</td>\n      <td>intermediate</td>\n    </tr>\n    <tr>\n      <th>...</th>\n      <td>...</td>\n      <td>...</td>\n      <td>...</td>\n      <td>...</td>\n    </tr>\n    <tr>\n      <th>128</th>\n      <td>CHEMBL2146517</td>\n      <td>COC(=O)[C@@]1(C)CCCc2c1ccc1c2C(=O)C(=O)c2c(C)c...</td>\n      <td>10600.0</td>\n      <td>inactive</td>\n    </tr>\n    <tr>\n      <th>129</th>\n      <td>CHEMBL187460</td>\n      <td>C[C@H]1COC2=C1C(=O)C(=O)c1c2ccc2c1CCCC2(C)C</td>\n      <td>10100.0</td>\n      <td>inactive</td>\n    </tr>\n    <tr>\n      <th>130</th>\n      <td>CHEMBL363535</td>\n      <td>Cc1coc2c1C(=O)C(=O)c1c-2ccc2c(C)cccc12</td>\n      <td>11500.0</td>\n      <td>inactive</td>\n    </tr>\n    <tr>\n      <th>131</th>\n      <td>CHEMBL227075</td>\n      <td>Cc1cccc2c3c(ccc12)C1=C(C(=O)C3=O)[C@@H](C)CO1</td>\n      <td>10700.0</td>\n      <td>inactive</td>\n    </tr>\n    <tr>\n      <th>132</th>\n      <td>CHEMBL45830</td>\n      <td>CC(C)C1=Cc2ccc3c(c2C(=O)C1=O)CCCC3(C)C</td>\n      <td>78900.0</td>\n      <td>inactive</td>\n    </tr>\n  </tbody>\n</table>\n<p>133 rows × 4 columns</p>\n</div>"
     },
     "execution_count": 75,
     "metadata": {},
     "output_type": "execute_result"
    }
   ],
   "source": [
    "pd.concat([df3,pd.Series(bioactivity_class)], axis=1)"
   ],
   "metadata": {
    "collapsed": false,
    "pycharm": {
     "name": "#%%\n"
    }
   }
  },
  {
   "cell_type": "code",
   "execution_count": 76,
   "outputs": [],
   "source": [
    "df3.to_csv('bioactivity_preprocessed_data.csv', index=False)"
   ],
   "metadata": {
    "collapsed": false,
    "pycharm": {
     "name": "#%%\n"
    }
   }
  },
  {
   "cell_type": "markdown",
   "source": [],
   "metadata": {
    "collapsed": false,
    "pycharm": {
     "name": "#%% md\n"
    }
   }
  }
 ],
 "metadata": {
  "kernelspec": {
   "display_name": "Python 3",
   "language": "python",
   "name": "python3"
  },
  "language_info": {
   "codemirror_mode": {
    "name": "ipython",
    "version": 2
   },
   "file_extension": ".py",
   "mimetype": "text/x-python",
   "name": "python",
   "nbconvert_exporter": "python",
   "pygments_lexer": "ipython2",
   "version": "2.7.6"
  }
 },
 "nbformat": 4,
 "nbformat_minor": 0
}